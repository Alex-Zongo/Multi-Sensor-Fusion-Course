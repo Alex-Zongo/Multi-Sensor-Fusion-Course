{
 "cells": [
  {
   "cell_type": "code",
   "execution_count": 2,
   "metadata": {},
   "outputs": [],
   "source": [
    "import numpy as np\n",
    "import matplotlib.pyplot as plt\n",
    "from algorithms import *\n"
   ]
  },
  {
   "cell_type": "code",
   "execution_count": 3,
   "metadata": {},
   "outputs": [],
   "source": [
    "s1, s1_err = 4.7, 2.0\n",
    "s2, s2_err = 1.6, 1.6\n",
    "s3, s3_err = 3.0, 1.5\n",
    "s4, s4_err = 1.8, 1.0\n",
    "s5_s1, s5_s1_err = 3.0, 1.6\n",
    "s5_s2, s5_s2_err = 1.0, 1.6\n",
    "s5_s3, s5_s3_err = 2.5, 1.6\n",
    "s5_s4, s5_s4_err = 0.9, 1.6"
   ]
  },
  {
   "cell_type": "markdown",
   "metadata": {},
   "source": [
    "## Dolev's Algorithm"
   ]
  },
  {
   "cell_type": "code",
   "execution_count": 4,
   "metadata": {},
   "outputs": [],
   "source": [
    "s1, s1_err = 4.7, 2.0\n",
    "s2, s2_err = 1.6, 1.6\n",
    "s3, s3_err = 3.0, 1.5\n",
    "s4, s4_err = 1.8, 1.0\n",
    "s5_s1, s5_s1_err = 3.0, 1.6\n",
    "s5_s2, s5_s2_err = 1.0, 1.6\n",
    "s5_s3, s5_s3_err = 2.5, 1.6\n",
    "s5_s4, s5_s4_err = 0.9, 1.6"
   ]
  },
  {
   "cell_type": "code",
   "execution_count": 5,
   "metadata": {},
   "outputs": [],
   "source": [
    "algo = Dolve(\n",
    "    n_pe=4,\n",
    "    s1=s1,\n",
    "    s2=s2,\n",
    "    s3=s3,\n",
    "    s4=s4,\n",
    "    s5_s1=s5_s1,\n",
    "    s5_s2=s5_s2,\n",
    "    s5_s3=s5_s3,\n",
    "    s5_s4=s5_s4,\n",
    "    true_value=2.75\n",
    ")"
   ]
  },
  {
   "cell_type": "code",
   "execution_count": 6,
   "metadata": {},
   "outputs": [
    {
     "name": "stdout",
     "output_type": "stream",
     "text": [
      "[[2.6       ]\n",
      " [2.13333333]\n",
      " [2.43333333]\n",
      " [2.13333333]]\n",
      ">> epoch: 1 - error: 0.4666666666666668\n",
      "[[2.38888889]\n",
      " [2.23333333]\n",
      " [2.35555556]\n",
      " [2.23333333]]\n",
      ">> epoch: 2 - error: 0.1555555555555559\n",
      "[[2.32592593]\n",
      " [2.27407407]\n",
      " [2.32592593]\n",
      " [2.27407407]]\n",
      ">> epoch: 3 - error: 0.05185185185185226\n",
      "[[2.30864198]\n",
      " [2.29135802]\n",
      " [2.30864198]\n",
      " [2.29135802]]\n",
      ">> epoch: 4 - error: 0.017283950617284383\n",
      "[[2.30288066]\n",
      " [2.29711934]\n",
      " [2.30288066]\n",
      " [2.29711934]]\n",
      ">> epoch: 5 - error: 0.005761316872428424\n",
      ">> Dolve Results: \n",
      "s1:  2.302880658436214\n",
      "s2:  2.2971193415637856\n",
      "s3:  2.302880658436214\n",
      "s4:  2.2971193415637856\n"
     ]
    },
    {
     "data": {
      "text/plain": [
       "[0.4666666666666668,\n",
       " 0.1555555555555559,\n",
       " 0.05185185185185226,\n",
       " 0.017283950617284383,\n",
       " 0.005761316872428424]"
      ]
     },
     "execution_count": 6,
     "metadata": {},
     "output_type": "execute_result"
    }
   ],
   "source": [
    "errors = algo.run(delta=0.01, type='dolve')\n",
    "errors"
   ]
  },
  {
   "cell_type": "code",
   "execution_count": 7,
   "metadata": {},
   "outputs": [
    {
     "name": "stderr",
     "output_type": "stream",
     "text": [
      "<>:3: SyntaxWarning: invalid escape sequence '\\d'\n",
      "<>:5: SyntaxWarning: invalid escape sequence '\\d'\n",
      "<>:3: SyntaxWarning: invalid escape sequence '\\d'\n",
      "<>:5: SyntaxWarning: invalid escape sequence '\\d'\n",
      "/var/folders/51/gkw58slj4gq47xhbrz7hl1j40000gn/T/ipykernel_90701/60347560.py:3: SyntaxWarning: invalid escape sequence '\\d'\n",
      "  plt.ylabel('$\\delta$')\n",
      "/var/folders/51/gkw58slj4gq47xhbrz7hl1j40000gn/T/ipykernel_90701/60347560.py:5: SyntaxWarning: invalid escape sequence '\\d'\n",
      "  plt.title(\"Dolve's Algorithm - $\\delta$ vs Iterations\")\n"
     ]
    },
    {
     "data": {
      "text/plain": [
       "Text(0.5, 1.0, \"Dolve's Algorithm - $\\\\delta$ vs Iterations\")"
      ]
     },
     "execution_count": 7,
     "metadata": {},
     "output_type": "execute_result"
    },
    {
     "data": {
      "image/png": "[encoded data removed]",
      "text/plain": [
       "<Figure size 640x480 with 1 Axes>"
      ]
     },
     "metadata": {},
     "output_type": "display_data"
    }
   ],
   "source": [
    "plt.plot(errors)\n",
    "plt.xlabel('Iterations')\n",
    "plt.ylabel('$\\delta$')\n",
    "plt.grid()\n",
    "plt.title(\"Dolve's Algorithm - $\\delta$ vs Iterations\")"
   ]
  },
  {
   "cell_type": "code",
   "execution_count": null,
   "metadata": {},
   "outputs": [],
   "source": []
  },
  {
   "cell_type": "markdown",
   "metadata": {},
   "source": [
    "## Mahaney and Schneider Algorithm"
   ]
  },
  {
   "cell_type": "code",
   "execution_count": 8,
   "metadata": {},
   "outputs": [],
   "source": [
    "s1, s1_err = 4.7, 2.0\n",
    "s2, s2_err = 1.6, 1.6\n",
    "s3, s3_err = 3.0, 1.5\n",
    "s4, s4_err = 1.8, 1.0\n",
    "s5_s1, s5_s1_err = 3.0, 1.6\n",
    "s5_s2, s5_s2_err = 1.0, 1.6\n",
    "s5_s3, s5_s3_err = 2.5, 1.6\n",
    "s5_s4, s5_s4_err = 0.9, 1.6"
   ]
  },
  {
   "cell_type": "code",
   "execution_count": 9,
   "metadata": {},
   "outputs": [],
   "source": [
    "# from algorithms import Mahaney\n",
    "algo2 = Mahaney(\n",
    "    n_pe=4,\n",
    "    s1=s1,\n",
    "    s2=s2,\n",
    "    s3=s3,\n",
    "    s4=s4,\n",
    "    s5_s1=s5_s1,\n",
    "    s5_s2=s5_s2,\n",
    "    s5_s3=s5_s3,\n",
    "    s5_s4=s5_s4,\n",
    "    true_value=2.75\n",
    ")"
   ]
  },
  {
   "cell_type": "code",
   "execution_count": 10,
   "metadata": {},
   "outputs": [
    {
     "name": "stdout",
     "output_type": "stream",
     "text": [
      ">> epoch: 1 - error: 0.52\n",
      ">> epoch: 2 - error: 0.4086666666666665\n",
      ">> epoch: 3 - error: 0.3999999999999999\n",
      ">> epoch: 4 - error: 0.4019274074074075\n",
      ">> epoch: 5 - error: 0.405190024691358\n",
      ">> epoch: 6 - error: 0.4079846156378597\n",
      ">> epoch: 7 - error: 0.4102666387928673\n",
      ">> epoch: 8 - error: 0.4121170679762227\n",
      ">> epoch: 9 - error: 0.4136159328985214\n",
      ">> epoch: 10 - error: 0.4148298305743312\n",
      ">> epoch: 11 - error: 0.41581291524619046\n",
      ">> epoch: 12 - error: 0.416609071172344\n",
      ">> epoch: 13 - error: 0.41725384156956924\n",
      ">> epoch: 14 - error: 0.4177760116810305\n",
      ">> epoch: 15 - error: 0.4181988934120049\n",
      ">> epoch: 16 - error: 0.41854136601643455\n",
      ">> epoch: 17 - error: 0.418818718940805\n",
      ">> epoch: 18 - error: 0.41904333440977415\n",
      ">> epoch: 19 - error: 0.41922524022170915\n",
      ">> epoch: 20 - error: 0.4193725574326175\n",
      ">> epoch: 21 - error: 0.4194918629149387\n",
      ">> epoch: 22 - error: 0.41958848297734797\n",
      ">> epoch: 23 - error: 0.41966673115403097\n",
      ">> epoch: 24 - error: 0.419730100779361\n",
      ">> epoch: 25 - error: 0.4197814209453332\n",
      ">> epoch: 26 - error: 0.4198229828043749\n",
      ">> epoch: 27 - error: 0.41985664185621707\n",
      ">> epoch: 28 - error: 0.41988390078536475\n",
      ">> epoch: 29 - error: 0.4199059765473858\n",
      ">> epoch: 30 - error: 0.41992385469902294\n",
      ">> epoch: 31 - error: 0.41993833339768294\n",
      ">> epoch: 32 - error: 0.4199500590346017\n",
      ">> epoch: 33 - error: 0.4199595550925268\n",
      ">> epoch: 34 - error: 0.41996724551623155\n",
      ">> epoch: 35 - error: 0.41997347363923\n",
      ">> epoch: 36 - error: 0.41997851751165816\n",
      ">> epoch: 37 - error: 0.41998260231362483\n",
      ">> epoch: 38 - error: 0.4199859104082173\n",
      ">> epoch: 39 - error: 0.4199885894829736\n",
      ">> epoch: 40 - error: 0.419990759143287\n",
      ">> epoch: 41 - error: 0.4199925162521041\n",
      ">> epoch: 42 - error: 0.4199939392543015\n",
      ">> epoch: 43 - error: 0.41999509167880444\n",
      ">> epoch: 44 - error: 0.41999602497478716\n",
      ">> epoch: 45 - error: 0.4199967808085874\n",
      ">> epoch: 46 - error: 0.41999739292386984\n",
      ">> epoch: 47 - error: 0.4199978886480864\n",
      ">> epoch: 48 - error: 0.4199982901124939\n",
      ">> epoch: 49 - error: 0.41999861524018534\n",
      ">> epoch: 50 - error: 0.41999887854625695\n",
      ">> epoch: 51 - error: 0.4199990917858214\n",
      ">> epoch: 52 - error: 0.4199992644788071\n",
      ">> epoch: 53 - error: 0.41999940433497174\n",
      ">> epoch: 54 - error: 0.41999951759809284\n",
      ">> epoch: 55 - error: 0.41999960932472247\n",
      ">> epoch: 56 - error: 0.419999683609932\n",
      ">> epoch: 57 - error: 0.4199997437701306\n",
      ">> epoch: 58 - error: 0.41999979249112895\n",
      ">> epoch: 59 - error: 0.41999983194804047\n",
      ">> epoch: 60 - error: 0.41999986390239186\n",
      ">> epoch: 61 - error: 0.4199998897807615\n",
      ">> epoch: 62 - error: 0.4199999107384713\n",
      ">> epoch: 63 - error: 0.4199999277111637\n",
      ">> epoch: 64 - error: 0.4199999414565727\n",
      ">> epoch: 65 - error: 0.4199999525883511\n",
      ">> epoch: 66 - error: 0.4199999616034704\n",
      ">> epoch: 67 - error: 0.4199999689044043\n",
      ">> epoch: 68 - error: 0.41999997481709683\n",
      ">> epoch: 69 - error: 0.4199999796055167\n",
      ">> epoch: 70 - error: 0.41999998348343914\n",
      ">> epoch: 71 - error: 0.4199999866239912\n",
      ">> epoch: 72 - error: 0.41999998916738135\n",
      ">> epoch: 73 - error: 0.41999999122715725\n",
      ">> epoch: 74 - error: 0.4199999928952751\n",
      ">> epoch: 75 - error: 0.4199999942462076\n",
      ">> epoch: 76 - error: 0.419999995340266\n",
      ">> epoch: 77 - error: 0.41999999622629436\n",
      ">> epoch: 78 - error: 0.41999999694384815\n",
      ">> epoch: 79 - error: 0.419999997524962\n",
      ">> epoch: 80 - error: 0.41999999799557974\n",
      ">> epoch: 81 - error: 0.41999999837671176\n",
      ">> epoch: 82 - error: 0.4199999986853722\n",
      ">> epoch: 83 - error: 0.4199999989353438\n",
      ">> epoch: 84 - error: 0.4199999991377832\n",
      ">> epoch: 85 - error: 0.41999999930173004\n",
      ">> epoch: 86 - error: 0.4199999994345027\n",
      ">> epoch: 87 - error: 0.4199999995420298\n",
      ">> epoch: 88 - error: 0.41999999962911083\n",
      ">> epoch: 89 - error: 0.419999999699634\n",
      ">> epoch: 90 - error: 0.4199999997567472\n",
      ">> epoch: 91 - error: 0.4199999998030004\n",
      ">> epoch: 92 - error: 0.4199999998404591\n",
      ">> epoch: 93 - error: 0.41999999987079506\n",
      ">> epoch: 94 - error: 0.41999999989536274\n",
      ">> epoch: 95 - error: 0.4199999999152588\n",
      ">> epoch: 96 - error: 0.4199999999313724\n",
      ">> epoch: 97 - error: 0.4199999999444215\n",
      ">> epoch: 98 - error: 0.4199999999549895\n",
      ">> epoch: 99 - error: 0.419999999963548\n",
      ">> epoch: 100 - error: 0.4199999999704793\n",
      ">> epoch: 101 - error: 0.4199999999760926\n",
      ">> Dolve Results: \n",
      "s1:  2.0800000004852177\n",
      "s2:  1.6800000004852176\n",
      "s3:  1.9800000004852176\n",
      "s4:  1.660000000509125\n"
     ]
    },
    {
     "data": {
      "text/plain": [
       "[0.52,\n",
       " 0.4086666666666665,\n",
       " 0.3999999999999999,\n",
       " 0.4019274074074075,\n",
       " 0.405190024691358,\n",
       " 0.4079846156378597,\n",
       " 0.4102666387928673,\n",
       " 0.4121170679762227,\n",
       " 0.4136159328985214,\n",
       " 0.4148298305743312,\n",
       " 0.41581291524619046,\n",
       " 0.416609071172344,\n",
       " 0.41725384156956924,\n",
       " 0.4177760116810305,\n",
       " 0.4181988934120049,\n",
       " 0.41854136601643455,\n",
       " 0.418818718940805,\n",
       " 0.41904333440977415,\n",
       " 0.41922524022170915,\n",
       " 0.4193725574326175,\n",
       " 0.4194918629149387,\n",
       " 0.41958848297734797,\n",
       " 0.41966673115403097,\n",
       " 0.419730100779361,\n",
       " 0.4197814209453332,\n",
       " 0.4198229828043749,\n",
       " 0.41985664185621707,\n",
       " 0.41988390078536475,\n",
       " 0.4199059765473858,\n",
       " 0.41992385469902294,\n",
       " 0.41993833339768294,\n",
       " 0.4199500590346017,\n",
       " 0.4199595550925268,\n",
       " 0.41996724551623155,\n",
       " 0.41997347363923,\n",
       " 0.41997851751165816,\n",
       " 0.41998260231362483,\n",
       " 0.4199859104082173,\n",
       " 0.4199885894829736,\n",
       " 0.419990759143287,\n",
       " 0.4199925162521041,\n",
       " 0.4199939392543015,\n",
       " 0.41999509167880444,\n",
       " 0.41999602497478716,\n",
       " 0.4199967808085874,\n",
       " 0.41999739292386984,\n",
       " 0.4199978886480864,\n",
       " 0.4199982901124939,\n",
       " 0.41999861524018534,\n",
       " 0.41999887854625695,\n",
       " 0.4199990917858214,\n",
       " 0.4199992644788071,\n",
       " 0.41999940433497174,\n",
       " 0.41999951759809284,\n",
       " 0.41999960932472247,\n",
       " 0.419999683609932,\n",
       " 0.4199997437701306,\n",
       " 0.41999979249112895,\n",
       " 0.41999983194804047,\n",
       " 0.41999986390239186,\n",
       " 0.4199998897807615,\n",
       " 0.4199999107384713,\n",
       " 0.4199999277111637,\n",
       " 0.4199999414565727,\n",
       " 0.4199999525883511,\n",
       " 0.4199999616034704,\n",
       " 0.4199999689044043,\n",
       " 0.41999997481709683,\n",
       " 0.4199999796055167,\n",
       " 0.41999998348343914,\n",
       " 0.4199999866239912,\n",
       " 0.41999998916738135,\n",
       " 0.41999999122715725,\n",
       " 0.4199999928952751,\n",
       " 0.4199999942462076,\n",
       " 0.419999995340266,\n",
       " 0.41999999622629436,\n",
       " 0.41999999694384815,\n",
       " 0.419999997524962,\n",
       " 0.41999999799557974,\n",
       " 0.41999999837671176,\n",
       " 0.4199999986853722,\n",
       " 0.4199999989353438,\n",
       " 0.4199999991377832,\n",
       " 0.41999999930173004,\n",
       " 0.4199999994345027,\n",
       " 0.4199999995420298,\n",
       " 0.41999999962911083,\n",
       " 0.419999999699634,\n",
       " 0.4199999997567472,\n",
       " 0.4199999998030004,\n",
       " 0.4199999998404591,\n",
       " 0.41999999987079506,\n",
       " 0.41999999989536274,\n",
       " 0.4199999999152588,\n",
       " 0.4199999999313724,\n",
       " 0.4199999999444215,\n",
       " 0.4199999999549895,\n",
       " 0.419999999963548,\n",
       " 0.4199999999704793,\n",
       " 0.4199999999760926]"
      ]
     },
     "execution_count": 10,
     "metadata": {},
     "output_type": "execute_result"
    }
   ],
   "source": [
    "errors2 = algo2.run(delta=0.3, type='dolve')\n",
    "errors2"
   ]
  },
  {
   "cell_type": "code",
   "execution_count": 11,
   "metadata": {},
   "outputs": [
    {
     "name": "stderr",
     "output_type": "stream",
     "text": [
      "<>:3: SyntaxWarning: invalid escape sequence '\\d'\n",
      "<>:5: SyntaxWarning: invalid escape sequence '\\d'\n",
      "<>:3: SyntaxWarning: invalid escape sequence '\\d'\n",
      "<>:5: SyntaxWarning: invalid escape sequence '\\d'\n",
      "/var/folders/51/gkw58slj4gq47xhbrz7hl1j40000gn/T/ipykernel_90701/1788417841.py:3: SyntaxWarning: invalid escape sequence '\\d'\n",
      "  plt.ylabel('$\\delta$')\n",
      "/var/folders/51/gkw58slj4gq47xhbrz7hl1j40000gn/T/ipykernel_90701/1788417841.py:5: SyntaxWarning: invalid escape sequence '\\d'\n",
      "  plt.title(\"Mahaney's Algorithm - $\\delta$ vs Iterations\")\n"
     ]
    },
    {
     "data": {
      "text/plain": [
       "Text(0.5, 1.0, \"Mahaney's Algorithm - $\\\\delta$ vs Iterations\")"
      ]
     },
     "execution_count": 11,
     "metadata": {},
     "output_type": "execute_result"
    },
    {
     "data": {
      "image/png": "[encoded data removed]",
      "text/plain": [
       "<Figure size 640x480 with 1 Axes>"
      ]
     },
     "metadata": {},
     "output_type": "display_data"
    }
   ],
   "source": [
    "plt.plot(errors2)\n",
    "plt.xlabel('Iterations')\n",
    "plt.ylabel('$\\delta$')\n",
    "plt.grid()\n",
    "plt.title(\"Mahaney's Algorithm - $\\delta$ vs Iterations\")"
   ]
  },
  {
   "cell_type": "markdown",
   "metadata": {},
   "source": [
    "## Sensor Fusion & Brooks-Iyengar Algorithm "
   ]
  },
  {
   "cell_type": "markdown",
   "metadata": {},
   "source": [
    "\n",
    "\n"
   ]
  },
  {
   "cell_type": "code",
   "execution_count": 12,
   "metadata": {},
   "outputs": [
    {
     "name": "stdout",
     "output_type": "stream",
     "text": [
      ">> Epoch 1: [2.626923076923077, 2.4, 2.626923076923077, 2.375] - [(1.5, 3.2), (1.5, 2.8), (1.5, 3.2), (1.5, 2.8)]\n",
      ">> Precision:  0.2519230769230769\n",
      ">> Epoch 2: [1.6615384615384614, 1.7304347826086959, 1.6358974358974359, 1.7173913043478262] - [(1.4, 2.8), (-0.6000000000000001, 2.8), (0.8999999999999999, 2.8), (-0.7000000000000001, 2.8)]\n",
      ">> Precision:  0.09453734671126002\n",
      ">> Epoch 3: [2.1163265306122447, 2.205084745762712, 2.1677419354838707, 2.133606557377049] - [(-0.7000000000000001, 2.8), (-0.7000000000000001, 2.8), (-0.7000000000000001, 2.8), (-0.7000000000000001, 2.8)]\n",
      ">> Precision:  0.08875821515046711\n",
      ">> Epoch 4: [1.4756756756756755, 1.4289855072463766, 1.4081081081081082, 0.8288888888888888] - [(-0.7000000000000001, 2.8), (-0.7000000000000001, 2.8), (-0.7000000000000001, 2.8), (-0.7000000000000001, 2.8)]\n",
      ">> Precision:  0.6467867867867867\n",
      ">> Epoch 5: [1.4756756756756755, 1.4289855072463766, 1.4081081081081082, 0.8288888888888888] - [(-0.7000000000000001, 2.8), (-0.7000000000000001, 2.8), (-0.7000000000000001, 2.8), (-0.7000000000000001, 2.8)]\n",
      ">> Precision:  0.6467867867867867\n",
      ">> Epoch 6: [1.4756756756756755, 1.4289855072463766, 1.4081081081081082, 0.8288888888888888] - [(-0.7000000000000001, 2.8), (-0.7000000000000001, 2.8), (-0.7000000000000001, 2.8), (-0.7000000000000001, 2.8)]\n",
      ">> Precision:  0.6467867867867867\n",
      ">> Epoch 7: [1.4756756756756755, 1.4289855072463766, 1.4081081081081082, 0.8288888888888888] - [(-0.7000000000000001, 2.8), (-0.7000000000000001, 2.8), (-0.7000000000000001, 2.8), (-0.7000000000000001, 2.8)]\n",
      ">> Precision:  0.6467867867867867\n",
      ">> Epoch 8: [1.4756756756756755, 1.4289855072463766, 1.4081081081081082, 0.8288888888888888] - [(-0.7000000000000001, 2.8), (-0.7000000000000001, 2.8), (-0.7000000000000001, 2.8), (-0.7000000000000001, 2.8)]\n",
      ">> Precision:  0.6467867867867867\n",
      ">> Epoch 9: [1.4756756756756755, 1.4289855072463766, 1.4081081081081082, 0.8288888888888888] - [(-0.7000000000000001, 2.8), (-0.7000000000000001, 2.8), (-0.7000000000000001, 2.8), (-0.7000000000000001, 2.8)]\n",
      ">> Precision:  0.6467867867867867\n",
      ">> Epoch 10: [1.4756756756756755, 1.4289855072463766, 1.4081081081081082, 0.8288888888888888] - [(-0.7000000000000001, 2.8), (-0.7000000000000001, 2.8), (-0.7000000000000001, 2.8), (-0.7000000000000001, 2.8)]\n",
      ">> Precision:  0.6467867867867867\n"
     ]
    }
   ],
   "source": [
    "s1, s1_err = 4.7, 2.0\n",
    "s2, s2_err = 1.6, 1.6\n",
    "s3, s3_err = 3.0, 1.5\n",
    "s4, s4_err = 1.8, 1.0\n",
    "s5_s1, s5_s1_err = 3.0, 1.6\n",
    "s5_s2, s5_s2_err = 1.0, 1.6\n",
    "s5_s3, s5_s3_err = 2.5, 1.6\n",
    "s5_s4, s5_s4_err = 0.9, 1.6\n",
    "\n",
    "algo3 = HybridAlgo(\n",
    "    n_pe=5,\n",
    "    F=1,\n",
    "    s1=s1,\n",
    "    s2=s2,\n",
    "    s3=s3,\n",
    "    s4=s4,\n",
    "    s5_s1=s5_s1,\n",
    "    s5_s2=s5_s2,\n",
    "    s5_s3=s5_s3,\n",
    "    s5_s4=s5_s4,\n",
    "    s1_err=s1_err,\n",
    "    s2_err=s2_err,\n",
    "    s3_err=s3_err,\n",
    "    s4_err=s4_err,\n",
    "    s5_s1_err=s5_s1_err,\n",
    "    s5_s2_err=s5_s2_err,\n",
    "    s5_s3_err=s5_s3_err,\n",
    "    s5_s4_err=s5_s4_err,\n",
    "    true_value=2.75\n",
    ")\n",
    "\n",
    "precisions = algo3.run(10)\n"
   ]
  },
  {
   "cell_type": "code",
   "execution_count": 13,
   "metadata": {},
   "outputs": [
    {
     "name": "stderr",
     "output_type": "stream",
     "text": [
      "<>:3: SyntaxWarning: invalid escape sequence '\\d'\n",
      "<>:5: SyntaxWarning: invalid escape sequence '\\d'\n",
      "<>:3: SyntaxWarning: invalid escape sequence '\\d'\n",
      "<>:5: SyntaxWarning: invalid escape sequence '\\d'\n",
      "/var/folders/51/gkw58slj4gq47xhbrz7hl1j40000gn/T/ipykernel_90701/3411731424.py:3: SyntaxWarning: invalid escape sequence '\\d'\n",
      "  plt.ylabel('$\\delta$')\n",
      "/var/folders/51/gkw58slj4gq47xhbrz7hl1j40000gn/T/ipykernel_90701/3411731424.py:5: SyntaxWarning: invalid escape sequence '\\d'\n",
      "  plt.title(\"Sensor Fusion and Brooks & Iyengar - $\\delta$ vs Iterations\")\n"
     ]
    },
    {
     "data": {
      "text/plain": [
       "Text(0.5, 1.0, 'Sensor Fusion and Brooks & Iyengar - $\\\\delta$ vs Iterations')"
      ]
     },
     "execution_count": 13,
     "metadata": {},
     "output_type": "execute_result"
    },
    {
     "data": {
      "image/png": "[encoded data removed]",
      "text/plain": [
       "<Figure size 640x480 with 1 Axes>"
      ]
     },
     "metadata": {},
     "output_type": "display_data"
    }
   ],
   "source": [
    "plt.plot(precisions)\n",
    "plt.xlabel('Iterations')\n",
    "plt.ylabel('$\\delta$')\n",
    "plt.grid()\n",
    "plt.title(\"Sensor Fusion and Brooks & Iyengar - $\\delta$ vs Iterations\")"
   ]
  },
  {
   "cell_type": "code",
   "execution_count": null,
   "metadata": {},
   "outputs": [],
   "source": []
  },
  {
   "cell_type": "code",
   "execution_count": 20,
   "metadata": {},
   "outputs": [],
   "source": []
  }
 ],
 "metadata": {
  "kernelspec": {
   "display_name": ".hw",
   "language": "python",
   "name": "python3"
  },
  "language_info": {
   "codemirror_mode": {
    "name": "ipython",
    "version": 3
   },
   "file_extension": ".py",
   "mimetype": "text/x-python",
   "name": "python",
   "nbconvert_exporter": "python",
   "pygments_lexer": "ipython3",
   "version": "3.12.0"
  },
  "orig_nbformat": 4
 },
 "nbformat": 4,
 "nbformat_minor": 2
}
